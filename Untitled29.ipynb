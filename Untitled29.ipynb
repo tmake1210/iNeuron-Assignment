{
 "cells": [
  {
   "cell_type": "code",
   "execution_count": null,
   "id": "c22e7fb5",
   "metadata": {},
   "outputs": [],
   "source": [
    "1.\n",
    "\n",
    "\n",
    "list(range(2000, 3201, 7))"
   ]
  },
  {
   "cell_type": "code",
   "execution_count": 11,
   "id": "7196acf3",
   "metadata": {},
   "outputs": [
    {
     "name": "stdout",
     "output_type": "stream",
     "text": [
      "Will Smith\n"
     ]
    },
    {
     "data": {
      "text/plain": [
       "'htimS lliW'"
      ]
     },
     "execution_count": 11,
     "metadata": {},
     "output_type": "execute_result"
    }
   ],
   "source": [
    "2.\n",
    "\n",
    "user_first_last_name = input()\n",
    "user_first_last_name[::-1]"
   ]
  },
  {
   "cell_type": "code",
   "execution_count": 12,
   "id": "b90f45af",
   "metadata": {},
   "outputs": [
    {
     "name": "stdout",
     "output_type": "stream",
     "text": [
      "Enter the diameter in cm >> 12\n",
      "Volume of sphere with diamter 12cm is 904.7779199999999\n"
     ]
    }
   ],
   "source": [
    "3.\n",
    "\n",
    "d = int(input('Enter the diameter in cm >> '))\n",
    "\n",
    "formula = 4/3*float(3.14159)*(d/2)**3\n",
    "V = 1/6*float(3.14159)*d**3\n",
    "\n",
    "\n",
    "print('Volume of sphere with diamter 12cm is', V)"
   ]
  },
  {
   "cell_type": "code",
   "execution_count": null,
   "id": "32a892cc",
   "metadata": {},
   "outputs": [],
   "source": []
  }
 ],
 "metadata": {
  "kernelspec": {
   "display_name": "Python 3",
   "language": "python",
   "name": "python3"
  },
  "language_info": {
   "codemirror_mode": {
    "name": "ipython",
    "version": 3
   },
   "file_extension": ".py",
   "mimetype": "text/x-python",
   "name": "python",
   "nbconvert_exporter": "python",
   "pygments_lexer": "ipython3",
   "version": "3.8.8"
  }
 },
 "nbformat": 4,
 "nbformat_minor": 5
}
